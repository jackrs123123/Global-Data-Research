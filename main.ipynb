{
 "cells": [
  {
   "cell_type": "code",
   "execution_count": 3,
   "metadata": {},
   "outputs": [],
   "source": [
    "import pandas as pd, numpy as np"
   ]
  },
  {
   "cell_type": "code",
   "execution_count": 4,
   "metadata": {},
   "outputs": [
    {
     "data": {
      "text/html": [
       "<div>\n",
       "<style scoped>\n",
       "    .dataframe tbody tr th:only-of-type {\n",
       "        vertical-align: middle;\n",
       "    }\n",
       "\n",
       "    .dataframe tbody tr th {\n",
       "        vertical-align: top;\n",
       "    }\n",
       "\n",
       "    .dataframe thead th {\n",
       "        text-align: right;\n",
       "    }\n",
       "</style>\n",
       "<table border=\"1\" class=\"dataframe\">\n",
       "  <thead>\n",
       "    <tr style=\"text-align: right;\">\n",
       "      <th></th>\n",
       "      <th>age</th>\n",
       "      <th>workclass</th>\n",
       "      <th>fnlwgt</th>\n",
       "      <th>education</th>\n",
       "      <th>education-num</th>\n",
       "      <th>marital-status</th>\n",
       "      <th>occupation</th>\n",
       "      <th>relationship</th>\n",
       "      <th>race</th>\n",
       "      <th>sex</th>\n",
       "      <th>capital-gain</th>\n",
       "      <th>capital-loss</th>\n",
       "      <th>hours-per-week</th>\n",
       "      <th>native-country</th>\n",
       "      <th>salary</th>\n",
       "    </tr>\n",
       "  </thead>\n",
       "  <tbody>\n",
       "    <tr>\n",
       "      <th>0</th>\n",
       "      <td>39</td>\n",
       "      <td>State-gov</td>\n",
       "      <td>77516</td>\n",
       "      <td>Bachelors</td>\n",
       "      <td>13</td>\n",
       "      <td>Never-married</td>\n",
       "      <td>Adm-clerical</td>\n",
       "      <td>Not-in-family</td>\n",
       "      <td>White</td>\n",
       "      <td>Male</td>\n",
       "      <td>2174</td>\n",
       "      <td>0</td>\n",
       "      <td>40</td>\n",
       "      <td>United-States</td>\n",
       "      <td>&lt;=50K</td>\n",
       "    </tr>\n",
       "    <tr>\n",
       "      <th>1</th>\n",
       "      <td>50</td>\n",
       "      <td>Self-emp-not-inc</td>\n",
       "      <td>83311</td>\n",
       "      <td>Bachelors</td>\n",
       "      <td>13</td>\n",
       "      <td>Married-civ-spouse</td>\n",
       "      <td>Exec-managerial</td>\n",
       "      <td>Husband</td>\n",
       "      <td>White</td>\n",
       "      <td>Male</td>\n",
       "      <td>0</td>\n",
       "      <td>0</td>\n",
       "      <td>13</td>\n",
       "      <td>United-States</td>\n",
       "      <td>&lt;=50K</td>\n",
       "    </tr>\n",
       "    <tr>\n",
       "      <th>2</th>\n",
       "      <td>38</td>\n",
       "      <td>Private</td>\n",
       "      <td>215646</td>\n",
       "      <td>HS-grad</td>\n",
       "      <td>9</td>\n",
       "      <td>Divorced</td>\n",
       "      <td>Handlers-cleaners</td>\n",
       "      <td>Not-in-family</td>\n",
       "      <td>White</td>\n",
       "      <td>Male</td>\n",
       "      <td>0</td>\n",
       "      <td>0</td>\n",
       "      <td>40</td>\n",
       "      <td>United-States</td>\n",
       "      <td>&lt;=50K</td>\n",
       "    </tr>\n",
       "    <tr>\n",
       "      <th>3</th>\n",
       "      <td>53</td>\n",
       "      <td>Private</td>\n",
       "      <td>234721</td>\n",
       "      <td>11th</td>\n",
       "      <td>7</td>\n",
       "      <td>Married-civ-spouse</td>\n",
       "      <td>Handlers-cleaners</td>\n",
       "      <td>Husband</td>\n",
       "      <td>Black</td>\n",
       "      <td>Male</td>\n",
       "      <td>0</td>\n",
       "      <td>0</td>\n",
       "      <td>40</td>\n",
       "      <td>United-States</td>\n",
       "      <td>&lt;=50K</td>\n",
       "    </tr>\n",
       "    <tr>\n",
       "      <th>4</th>\n",
       "      <td>28</td>\n",
       "      <td>Private</td>\n",
       "      <td>338409</td>\n",
       "      <td>Bachelors</td>\n",
       "      <td>13</td>\n",
       "      <td>Married-civ-spouse</td>\n",
       "      <td>Prof-specialty</td>\n",
       "      <td>Wife</td>\n",
       "      <td>Black</td>\n",
       "      <td>Female</td>\n",
       "      <td>0</td>\n",
       "      <td>0</td>\n",
       "      <td>40</td>\n",
       "      <td>Cuba</td>\n",
       "      <td>&lt;=50K</td>\n",
       "    </tr>\n",
       "    <tr>\n",
       "      <th>...</th>\n",
       "      <td>...</td>\n",
       "      <td>...</td>\n",
       "      <td>...</td>\n",
       "      <td>...</td>\n",
       "      <td>...</td>\n",
       "      <td>...</td>\n",
       "      <td>...</td>\n",
       "      <td>...</td>\n",
       "      <td>...</td>\n",
       "      <td>...</td>\n",
       "      <td>...</td>\n",
       "      <td>...</td>\n",
       "      <td>...</td>\n",
       "      <td>...</td>\n",
       "      <td>...</td>\n",
       "    </tr>\n",
       "    <tr>\n",
       "      <th>32556</th>\n",
       "      <td>27</td>\n",
       "      <td>Private</td>\n",
       "      <td>257302</td>\n",
       "      <td>Assoc-acdm</td>\n",
       "      <td>12</td>\n",
       "      <td>Married-civ-spouse</td>\n",
       "      <td>Tech-support</td>\n",
       "      <td>Wife</td>\n",
       "      <td>White</td>\n",
       "      <td>Female</td>\n",
       "      <td>0</td>\n",
       "      <td>0</td>\n",
       "      <td>38</td>\n",
       "      <td>United-States</td>\n",
       "      <td>&lt;=50K</td>\n",
       "    </tr>\n",
       "    <tr>\n",
       "      <th>32557</th>\n",
       "      <td>40</td>\n",
       "      <td>Private</td>\n",
       "      <td>154374</td>\n",
       "      <td>HS-grad</td>\n",
       "      <td>9</td>\n",
       "      <td>Married-civ-spouse</td>\n",
       "      <td>Machine-op-inspct</td>\n",
       "      <td>Husband</td>\n",
       "      <td>White</td>\n",
       "      <td>Male</td>\n",
       "      <td>0</td>\n",
       "      <td>0</td>\n",
       "      <td>40</td>\n",
       "      <td>United-States</td>\n",
       "      <td>&gt;50K</td>\n",
       "    </tr>\n",
       "    <tr>\n",
       "      <th>32558</th>\n",
       "      <td>58</td>\n",
       "      <td>Private</td>\n",
       "      <td>151910</td>\n",
       "      <td>HS-grad</td>\n",
       "      <td>9</td>\n",
       "      <td>Widowed</td>\n",
       "      <td>Adm-clerical</td>\n",
       "      <td>Unmarried</td>\n",
       "      <td>White</td>\n",
       "      <td>Female</td>\n",
       "      <td>0</td>\n",
       "      <td>0</td>\n",
       "      <td>40</td>\n",
       "      <td>United-States</td>\n",
       "      <td>&lt;=50K</td>\n",
       "    </tr>\n",
       "    <tr>\n",
       "      <th>32559</th>\n",
       "      <td>22</td>\n",
       "      <td>Private</td>\n",
       "      <td>201490</td>\n",
       "      <td>HS-grad</td>\n",
       "      <td>9</td>\n",
       "      <td>Never-married</td>\n",
       "      <td>Adm-clerical</td>\n",
       "      <td>Own-child</td>\n",
       "      <td>White</td>\n",
       "      <td>Male</td>\n",
       "      <td>0</td>\n",
       "      <td>0</td>\n",
       "      <td>20</td>\n",
       "      <td>United-States</td>\n",
       "      <td>&lt;=50K</td>\n",
       "    </tr>\n",
       "    <tr>\n",
       "      <th>32560</th>\n",
       "      <td>52</td>\n",
       "      <td>Self-emp-inc</td>\n",
       "      <td>287927</td>\n",
       "      <td>HS-grad</td>\n",
       "      <td>9</td>\n",
       "      <td>Married-civ-spouse</td>\n",
       "      <td>Exec-managerial</td>\n",
       "      <td>Wife</td>\n",
       "      <td>White</td>\n",
       "      <td>Female</td>\n",
       "      <td>15024</td>\n",
       "      <td>0</td>\n",
       "      <td>40</td>\n",
       "      <td>United-States</td>\n",
       "      <td>&gt;50K</td>\n",
       "    </tr>\n",
       "  </tbody>\n",
       "</table>\n",
       "<p>32561 rows × 15 columns</p>\n",
       "</div>"
      ],
      "text/plain": [
       "       age         workclass  fnlwgt   education  education-num  \\\n",
       "0       39         State-gov   77516   Bachelors             13   \n",
       "1       50  Self-emp-not-inc   83311   Bachelors             13   \n",
       "2       38           Private  215646     HS-grad              9   \n",
       "3       53           Private  234721        11th              7   \n",
       "4       28           Private  338409   Bachelors             13   \n",
       "...    ...               ...     ...         ...            ...   \n",
       "32556   27           Private  257302  Assoc-acdm             12   \n",
       "32557   40           Private  154374     HS-grad              9   \n",
       "32558   58           Private  151910     HS-grad              9   \n",
       "32559   22           Private  201490     HS-grad              9   \n",
       "32560   52      Self-emp-inc  287927     HS-grad              9   \n",
       "\n",
       "           marital-status         occupation   relationship   race     sex  \\\n",
       "0           Never-married       Adm-clerical  Not-in-family  White    Male   \n",
       "1      Married-civ-spouse    Exec-managerial        Husband  White    Male   \n",
       "2                Divorced  Handlers-cleaners  Not-in-family  White    Male   \n",
       "3      Married-civ-spouse  Handlers-cleaners        Husband  Black    Male   \n",
       "4      Married-civ-spouse     Prof-specialty           Wife  Black  Female   \n",
       "...                   ...                ...            ...    ...     ...   \n",
       "32556  Married-civ-spouse       Tech-support           Wife  White  Female   \n",
       "32557  Married-civ-spouse  Machine-op-inspct        Husband  White    Male   \n",
       "32558             Widowed       Adm-clerical      Unmarried  White  Female   \n",
       "32559       Never-married       Adm-clerical      Own-child  White    Male   \n",
       "32560  Married-civ-spouse    Exec-managerial           Wife  White  Female   \n",
       "\n",
       "       capital-gain  capital-loss  hours-per-week native-country salary  \n",
       "0              2174             0              40  United-States  <=50K  \n",
       "1                 0             0              13  United-States  <=50K  \n",
       "2                 0             0              40  United-States  <=50K  \n",
       "3                 0             0              40  United-States  <=50K  \n",
       "4                 0             0              40           Cuba  <=50K  \n",
       "...             ...           ...             ...            ...    ...  \n",
       "32556             0             0              38  United-States  <=50K  \n",
       "32557             0             0              40  United-States   >50K  \n",
       "32558             0             0              40  United-States  <=50K  \n",
       "32559             0             0              20  United-States  <=50K  \n",
       "32560         15024             0              40  United-States   >50K  \n",
       "\n",
       "[32561 rows x 15 columns]"
      ]
     },
     "execution_count": 4,
     "metadata": {},
     "output_type": "execute_result"
    }
   ],
   "source": [
    "df = pd.read_csv('adult.data.csv')\n",
    "df"
   ]
  },
  {
   "cell_type": "markdown",
   "metadata": {},
   "source": [
    "How many of each race are represented in the data set?"
   ]
  },
  {
   "cell_type": "code",
   "execution_count": 4,
   "metadata": {},
   "outputs": [
    {
     "name": "stdout",
     "output_type": "stream",
     "text": [
      "White: 27816 Black: 3124 Asian-PI: 1039 Amer-Ind: 311 Other: 271\n"
     ]
    }
   ],
   "source": [
    "def race_count():\n",
    "    \n",
    "    races = df['race'].value_counts()\n",
    "    print('White:', races.iloc[0], 'Black:', races.iloc[1], 'Asian-PI:', races.iloc[2], 'Amer-Ind:', races.iloc[3], 'Other:', races.iloc[4])\n",
    "    # using races[0], races[1], etc. is deprecated and .iloc is recommended for indexing by number in pandas\n",
    "    \n",
    "race_count()"
   ]
  },
  {
   "cell_type": "markdown",
   "metadata": {},
   "source": [
    "What's the average age of all men represented?"
   ]
  },
  {
   "cell_type": "code",
   "execution_count": 5,
   "metadata": {},
   "outputs": [
    {
     "name": "stdout",
     "output_type": "stream",
     "text": [
      "Average age of men in dataset is: 39.4\n"
     ]
    }
   ],
   "source": [
    "def average_age_men():\n",
    "    \n",
    "    all_men = df[['age', 'sex']][df['sex'] == 'Male'] # creating two column dataframe for age and sex,, limiting rows to only include Males\n",
    "    avg_age = all_men['age'].mean()\n",
    "    rounded = round(avg_age,1)\n",
    "    print('Average age of men in dataset is:', rounded)\n",
    "\n",
    "average_age_men()"
   ]
  },
  {
   "cell_type": "markdown",
   "metadata": {},
   "source": [
    "Percent of people in data set with bachelor's degree?"
   ]
  },
  {
   "cell_type": "code",
   "execution_count": 59,
   "metadata": {},
   "outputs": [
    {
     "name": "stdout",
     "output_type": "stream",
     "text": [
      "16.4 % of people in dataset have a bachelor's degree (5355, 32561)\n"
     ]
    }
   ],
   "source": [
    "def bachelors():\n",
    "    \n",
    "    edu_counts = df['education'].value_counts() # follows step by step coding procress\n",
    "    total = edu_counts.sum()\n",
    "    bach = edu_counts.iloc[2]\n",
    "    percent = (bach / total) * 100\n",
    "    rounded = round(percent, 1)\n",
    "    print(rounded, \"% of people in dataset have a bachelor's degree\", (bach, total))\n",
    "\n",
    "bachelors()"
   ]
  },
  {
   "cell_type": "markdown",
   "metadata": {},
   "source": [
    "Percent of people in data set who have a bachelor's, master's, or doctorate and make more than 50k?"
   ]
  },
  {
   "cell_type": "code",
   "execution_count": 60,
   "metadata": {},
   "outputs": [
    {
     "name": "stdout",
     "output_type": "stream",
     "text": [
      "10.7 % of people in the data set have a Bachelors, Masters, or Doctorate and make more than 50K annually (3486, 32561)\n"
     ]
    }
   ],
   "source": [
    "def bmd_50(): # two conditionals (education, salary)\n",
    "\n",
    "    edu = df[['education', 'salary']]\n",
    "    edu_sal = df[['education', 'salary']][df['education'].isin(['Bachelors', 'Masters', 'Doctorate'])] # limits all rows for education to be either of the three levels\n",
    "    edu_sal_50 = edu_sal[edu_sal['salary'] == '>50K'] # limits all remaining rows to have a salary above 50k\n",
    "    amount = len(edu_sal_50)\n",
    "    percent = (amount / len(df)) * 100\n",
    "    rounded = round(percent,1)\n",
    "    print(rounded, '% of people in the data set have a Bachelors, Masters, or Doctorate and make more than 50K annually', (amount, len(df)))\n",
    "\n",
    "bmd_50()"
   ]
  },
  {
   "cell_type": "markdown",
   "metadata": {},
   "source": [
    "Percent of people in data set without higher education making less than 50k?"
   ]
  },
  {
   "cell_type": "code",
   "execution_count": 61,
   "metadata": {},
   "outputs": [
    {
     "name": "stdout",
     "output_type": "stream",
     "text": [
      "10.2 % of people in the dataset have no higher education and make more than 50K annually\n"
     ]
    }
   ],
   "source": [
    "def no_edu_50(): # same two conditionals (education, salary)\n",
    "\n",
    "    edu = df[['education', 'salary']]\n",
    "    no_edu = df[['education', 'salary']][df['education'].isin(['HS-grad', 'Some-college', '11th', '10th', '7th-8th', '9th', '12th', '5th-6th', '1st-4th', 'Preschool'])]\n",
    "    no_edu_sal = no_edu[no_edu['salary'] == '>50K'] # same methods as previous function\n",
    "    amount = len(no_edu_sal)\n",
    "    percent = (amount / len(df)) * 100\n",
    "    rounded = round(percent, 1)\n",
    "    print(rounded, '% of people in the dataset have no higher education and make more than 50K annually')\n",
    "\n",
    "no_edu_50()"
   ]
  },
  {
   "cell_type": "markdown",
   "metadata": {},
   "source": [
    "What is the minimum amount of hours a person in this data set has worked?"
   ]
  },
  {
   "cell_type": "code",
   "execution_count": 54,
   "metadata": {},
   "outputs": [
    {
     "name": "stdout",
     "output_type": "stream",
     "text": [
      "1 hour(s) is the minimum amount recorded in this dataset\n"
     ]
    }
   ],
   "source": [
    "def min_hours(): # simple command function\n",
    "\n",
    "    print(df['hours-per-week'].min(), 'hour(s) is the minimum amount recorded in this dataset') \n",
    "\n",
    "min_hours()"
   ]
  },
  {
   "cell_type": "markdown",
   "metadata": {},
   "source": [
    "Percent of data set that makes more than 50K annually?"
   ]
  },
  {
   "cell_type": "code",
   "execution_count": 63,
   "metadata": {},
   "outputs": [
    {
     "name": "stdout",
     "output_type": "stream",
     "text": [
      "24.1 % of data set makes more than 50K annually\n"
     ]
    }
   ],
   "source": [
    "def more_50(): # analyzing one condition\n",
    "\n",
    "    salaries = df['salary'].value_counts()\n",
    "    more = salaries.iloc[1]\n",
    "    percent = (more / len(df)) * 100\n",
    "    rounded = round(percent, 1)\n",
    "    print(rounded, '% of data set makes more than 50K annually')\n",
    "\n",
    "more_50()"
   ]
  },
  {
   "cell_type": "markdown",
   "metadata": {},
   "source": [
    "Percent of people working minimum hours who make more than 50k?"
   ]
  },
  {
   "cell_type": "code",
   "execution_count": 76,
   "metadata": {},
   "outputs": [
    {
     "name": "stdout",
     "output_type": "stream",
     "text": [
      "0.006142317496391388 % of data set worked 1 hour and made more than 50K annually. This number can be rounded to 0 %\n"
     ]
    }
   ],
   "source": [
    "def min_50():\n",
    "\n",
    "    hours_sal = df[['hours-per-week', 'salary']]\n",
    "    hours_sal_50 = df[['hours-per-week', 'salary']][df['hours-per-week'] == 1]\n",
    "    amount = hours_sal_50.value_counts().iloc[1]\n",
    "    percent = (amount / len(df)) * 100\n",
    "    print(percent, '% of data set worked 1 hour and made more than 50K annually. This number can be rounded to 0 %')\n",
    "\n",
    "min_50()"
   ]
  },
  {
   "cell_type": "markdown",
   "metadata": {},
   "source": [
    "Which country has the highest percent of people making more than 50k?"
   ]
  },
  {
   "cell_type": "code",
   "execution_count": 8,
   "metadata": {},
   "outputs": [
    {
     "name": "stdout",
     "output_type": "stream",
     "text": [
      "Iran has the highest percentage of their population earning more than 50K annually ----> 41.9 %\n"
     ]
    }
   ],
   "source": [
    "def highest_ctry():\n",
    "\n",
    "    p_lst = []\n",
    "    c_lst = []\n",
    "\n",
    "    for i in df['native-country'].unique(): # iterates through every named country in data set\n",
    "        pos = df[['native-country', 'salary']][df['native-country'] == i].value_counts() # visits every country's population ratio of income as a mini data frame\n",
    "        if len(pos) != 1 or 0: # gets rid of positions where only one data point represents the country\n",
    "            percent = (pos.iloc[1] / pos.sum()) * 100\n",
    "            p_lst.append(percent)\n",
    "            c_lst.append(i) # fills out both lists with percentages and country names respectively\n",
    "\n",
    "    p_array = np.asarray(p_lst) # much easier than writing a searching algorithm myself ----> 41.86046511627907\n",
    "    max_p = p_array.max() # ended up writing my own searching algorithm when that wasn't necesarry lol\n",
    "\n",
    "    key = p_lst.index(41.86046511627907) # 12 index num\n",
    "    rounded = round(max_p,1)\n",
    "\n",
    "    print(c_lst[key], 'has the highest percentage of their population earning more than 50K annually ---->', rounded, '%')\n",
    "\n",
    "highest_ctry()"
   ]
  },
  {
   "cell_type": "markdown",
   "metadata": {},
   "source": [
    "Identify the most popular occupation for those who earn >50K in India."
   ]
  },
  {
   "cell_type": "code",
   "execution_count": 137,
   "metadata": {},
   "outputs": [
    {
     "name": "stdout",
     "output_type": "stream",
     "text": [
      "Prof-Specialty is the most popular job that happens to make more than 50K annually with 25 represented in data set.\n"
     ]
    }
   ],
   "source": [
    "def in_50():\n",
    "\n",
    "    india = df[['occupation', 'native-country', 'salary']][df['native-country'] == 'India']\n",
    "    india_50 = india[india['salary'] == '>50K']\n",
    "    amount = india_50.value_counts().iloc[0] # gets 25 as a value\n",
    "    totals = india_50.value_counts()\n",
    "\n",
    "    max = 0\n",
    "    for i in totals:\n",
    "        if i > max:\n",
    "            max = i\n",
    "\n",
    "    print('Prof-Specialty is the most popular job that happens to make more than 50K annually with', max, 'represented in data set.')\n",
    "\n",
    "in_50()"
   ]
  }
 ],
 "metadata": {
  "kernelspec": {
   "display_name": "Python 3 (ipykernel)",
   "language": "python",
   "name": "python3"
  },
  "language_info": {
   "codemirror_mode": {
    "name": "ipython",
    "version": 3
   },
   "file_extension": ".py",
   "mimetype": "text/x-python",
   "name": "python",
   "nbconvert_exporter": "python",
   "pygments_lexer": "ipython3",
   "version": "3.11.7"
  }
 },
 "nbformat": 4,
 "nbformat_minor": 2
}
